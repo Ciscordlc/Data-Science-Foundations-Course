{
 "cells": [
  {
   "attachments": {},
   "cell_type": "markdown",
   "metadata": {},
   "source": [
    "# Medical Insurance Project\n",
    "\n",
    "### Importing pandas and numpy library"
   ]
  },
  {
   "cell_type": "code",
   "execution_count": 25,
   "metadata": {},
   "outputs": [],
   "source": [
    "import pandas as pd\n",
    "import numpy as np\n",
    "\n",
    "insurance_df = pd.read_csv('insurance.csv')"
   ]
  },
  {
   "attachments": {},
   "cell_type": "markdown",
   "metadata": {},
   "source": [
    "### Creating a Class for the dataframe\n",
    "Accompanying the class with methods to get various info from the data set"
   ]
  },
  {
   "cell_type": "code",
   "execution_count": 26,
   "metadata": {},
   "outputs": [],
   "source": [
    "class PatientsInfo:\n",
    "    def __init__(self, df):\n",
    "        self.df = df\n",
    "        self.count = df.count()\n",
    "    \n",
    "    def get_age_data(self):\n",
    "        age = self.df['age']\n",
    "        aggregate_data = age.describe()\n",
    "        return aggregate_data.iloc[[1, 3, 5, 7]]\n",
    "    \n",
    "    def get_sex_count(self):\n",
    "        sex = self.df['sex']\n",
    "        return sex.value_counts()\n",
    "\n",
    "    def get_bmi_data(self):\n",
    "        bmi = self.df['bmi']\n",
    "        aggregate_data = bmi.describe()\n",
    "        return aggregate_data.iloc[[1, 3, 5, 7]]\n",
    "\n",
    "    def get_children_count(self):\n",
    "        children = self.df['children']\n",
    "        return children.value_counts()\n",
    "    \n",
    "    def get_smoker_count(self):\n",
    "        smoker = self.df['smoker']\n",
    "        return smoker.value_counts()\n",
    "    \n",
    "    def get_region_count(self):\n",
    "        region = self.df['region']\n",
    "        return region.value_counts()\n",
    "    \n",
    "    def get_charges_data(self):\n",
    "        charges = self.df['charges']\n",
    "        aggregate_data = charges.describe()\n",
    "        return aggregate_data.iloc[[1, 3, 5, 7]]\n",
    "    \n",
    "    def get_charges_by_column(self, column_name):\n",
    "        return self.df.groupby(column_name).agg(average_charge=pd.NamedAgg(column='charges', aggfunc=np.mean))\n",
    "    \n",
    "insurance_info = PatientsInfo(insurance_df)"
   ]
  },
  {
   "attachments": {},
   "cell_type": "markdown",
   "metadata": {},
   "source": [
    "### Getting the count of males and females in the data set"
   ]
  },
  {
   "cell_type": "code",
   "execution_count": 27,
   "metadata": {},
   "outputs": [
    {
     "name": "stdout",
     "output_type": "stream",
     "text": [
      "There are 676 males and 662 females in record.\n"
     ]
    }
   ],
   "source": [
    "sex_count = insurance_info.get_sex_count()\n",
    "males_count = sex_count.iloc[0]\n",
    "females_count = sex_count.iloc[1]\n",
    "sex_count_dict = {\"males\": males_count, \"females\": females_count}\n",
    "\n",
    "print(f\"There are {sex_count_dict['males']} males and {sex_count_dict['females']} females in record.\")"
   ]
  },
  {
   "attachments": {},
   "cell_type": "markdown",
   "metadata": {},
   "source": [
    "### Getting aggregate data about age in the data set"
   ]
  },
  {
   "cell_type": "code",
   "execution_count": 28,
   "metadata": {},
   "outputs": [
    {
     "name": "stdout",
     "output_type": "stream",
     "text": [
      "The average age and median age are 39.21 and 39.0 years old, respectively.\n",
      "The youngest client is 18.0 years old, while the oldest client is 64.0 years old.\n"
     ]
    }
   ],
   "source": [
    "age_data = insurance_info.get_age_data()\n",
    "age_dict = {row_name: round(age_data.loc[row_name], 2) for row_name in age_data.index}\n",
    "\n",
    "print(f\"The average age and median age are {age_dict['mean']} and {age_dict['50%']} years old, respectively.\")\n",
    "print(f\"The youngest client is {age_dict['min']} years old, while the oldest client is {age_dict['max']} years old.\")"
   ]
  },
  {
   "attachments": {},
   "cell_type": "markdown",
   "metadata": {},
   "source": [
    "### Getting aggregate data about BMI in the data set"
   ]
  },
  {
   "cell_type": "code",
   "execution_count": 89,
   "metadata": {},
   "outputs": [
    {
     "name": "stdout",
     "output_type": "stream",
     "text": [
      "The average BMI and median BMI are 30.66 and 30.4, respectively.\n",
      "The lowest BMI is 15.96 and the highest BMI is 53.13\n"
     ]
    }
   ],
   "source": [
    "bmi_data = insurance_info.get_bmi_data()\n",
    "bmi_dict = {row_name: round(bmi_data.loc[row_name], 2) for row_name in bmi_data.index}\n",
    "\n",
    "print(f\"The average BMI and median BMI are {bmi_dict['mean']} and {bmi_dict['50%']}, respectively.\")\n",
    "print(f\"The lowest BMI is {bmi_dict['min']} and the highest BMI is {bmi_dict['max']}\")"
   ]
  },
  {
   "attachments": {},
   "cell_type": "markdown",
   "metadata": {},
   "source": [
    "### Getting the count of people with children"
   ]
  },
  {
   "cell_type": "code",
   "execution_count": 44,
   "metadata": {},
   "outputs": [
    {
     "name": "stdout",
     "output_type": "stream",
     "text": [
      "\n",
      "There are 574 people without children, \n",
      "324 people with one child, \n",
      "240 people with two children, \n",
      "157 people with three children, \n",
      "25 people with four children, \n",
      "and 18 people with five children.\n"
     ]
    }
   ],
   "source": [
    "children_count = insurance_info.get_children_count()\n",
    "children_dict = {row_name: children_count.loc[row_name] for row_name in children_count.index}\n",
    "\n",
    "print(f\"\"\"\n",
    "There are {children_dict[0]} people without children, \n",
    "{children_dict[1]} people with one child, \n",
    "{children_dict[2]} people with two children, \n",
    "{children_dict[3]} people with three children, \n",
    "{children_dict[4]} people with four children, \n",
    "and {children_dict[5]} people with five children.\"\"\"\n",
    "      )"
   ]
  },
  {
   "attachments": {},
   "cell_type": "markdown",
   "metadata": {},
   "source": [
    "### Getting count of smokers in data set"
   ]
  },
  {
   "cell_type": "code",
   "execution_count": 90,
   "metadata": {},
   "outputs": [
    {
     "name": "stdout",
     "output_type": "stream",
     "text": [
      "Out of 1338 people, 274 smoke and 1064 don't.\n"
     ]
    }
   ],
   "source": [
    "count = insurance_info.count[0]\n",
    "smoker_count = insurance_info.get_smoker_count()\n",
    "smoker_dict = {row_name: smoker_count.loc[row_name] for row_name in smoker_count.index}\n",
    "\n",
    "print(f\"Out of {count} people, {smoker_dict['yes']} smoke and {smoker_dict['no']} don't.\")"
   ]
  },
  {
   "attachments": {},
   "cell_type": "markdown",
   "metadata": {},
   "source": [
    "### Getting count of people in different regions"
   ]
  },
  {
   "cell_type": "code",
   "execution_count": 49,
   "metadata": {},
   "outputs": [
    {
     "name": "stdout",
     "output_type": "stream",
     "text": [
      "There are 364 people from the South-East, \n",
      "325 people from the South-West, \n",
      "325 people from the North-West, \n",
      "and 324 people from the North-East\n"
     ]
    }
   ],
   "source": [
    "region_count = insurance_info.get_region_count()\n",
    "region_dict = {row_name: region_count.loc[row_name] for row_name in region_count.index}\n",
    "\n",
    "print(f\"\"\"There are {region_dict['southeast']} people from the South-East, \n",
    "{region_dict['southwest']} people from the South-West, \n",
    "{region_dict['northwest']} people from the North-West, \n",
    "and {region_dict['northeast']} people from the North-East.\"\"\"\n",
    "      )"
   ]
  },
  {
   "attachments": {},
   "cell_type": "markdown",
   "metadata": {},
   "source": [
    "### Getting information on the charges in the data set"
   ]
  },
  {
   "cell_type": "code",
   "execution_count": 88,
   "metadata": {},
   "outputs": [
    {
     "name": "stdout",
     "output_type": "stream",
     "text": [
      "On average, one person will pay $13270.42. On the other hand, the median charge for a single person is $9382.03. There is a difference of $3888.39.\n",
      "The lowest charged to someone is $1121.87, while the highest charged to someone is $63770.43.\n"
     ]
    }
   ],
   "source": [
    "charges_data = insurance_info.get_charges_data()\n",
    "charges_dict = {row_name: round(charges_data.loc[row_name], 2) for row_name in charges_data.index}\n",
    "charges_dict['difference'] = round(charges_dict['mean'] - charges_dict['50%'], 2)\n",
    "\n",
    "print(f\"On average, one person will pay ${charges_dict['mean']}. On the other hand, the median charge for a single person is ${charges_dict['50%']}. There is a difference of ${charges_dict['difference']}.\")\n",
    "print(f\"The lowest charged to someone is ${charges_dict['min']}, while the highest charged to someone is ${charges_dict['max']}.\")"
   ]
  },
  {
   "attachments": {},
   "cell_type": "markdown",
   "metadata": {},
   "source": [
    "### Organizing average charge based on the column"
   ]
  },
  {
   "cell_type": "code",
   "execution_count": 86,
   "metadata": {},
   "outputs": [],
   "source": [
    "charge_by_age = insurance_info.get_charges_by_column('age')\n",
    "charge_by_age_dict = {row_name: round(charge_by_age.loc[row_name, 'average_charge'], 2) for row_name in charge_by_age.index}\n",
    "\n",
    "charge_by_sex = insurance_info.get_charges_by_column('sex')\n",
    "charge_by_sex_dict = {row_name: round(charge_by_sex.loc[row_name, 'average_charge'], 2) for row_name in charge_by_sex.index}\n",
    "\n",
    "charge_by_children = insurance_info.get_charges_by_column('children')\n",
    "charge_by_children_dict = {row_name: round(charge_by_children.loc[row_name, 'average_charge'], 2) for row_name in charge_by_children.index}\n",
    "\n",
    "charge_by_smoker = insurance_info.get_charges_by_column('smoker')\n",
    "charge_by_smoker_dict = {row_name: round(charge_by_smoker.loc[row_name, 'average_charge'], 2) for row_name in charge_by_smoker.index}\n",
    "\n",
    "charge_by_region = insurance_info.get_charges_by_column('region')\n",
    "charge_by_region_dict = {row_name: round(charge_by_region.loc[row_name, 'average_charge'], 2) for row_name in charge_by_region.index}"
   ]
  }
 ],
 "metadata": {
  "kernelspec": {
   "display_name": "Python311",
   "language": "python",
   "name": "python3"
  },
  "language_info": {
   "codemirror_mode": {
    "name": "ipython",
    "version": 3
   },
   "file_extension": ".py",
   "mimetype": "text/x-python",
   "name": "python",
   "nbconvert_exporter": "python",
   "pygments_lexer": "ipython3",
   "version": "3.11.0"
  },
  "orig_nbformat": 4
 },
 "nbformat": 4,
 "nbformat_minor": 2
}
